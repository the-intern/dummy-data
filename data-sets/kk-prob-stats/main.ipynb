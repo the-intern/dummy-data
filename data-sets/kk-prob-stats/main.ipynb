{
 "cells": [
  {
   "cell_type": "code",
<<<<<<< HEAD
   "execution_count": 69,
   "metadata": {},
   "outputs": [],
   "source": [
    "import numpy as np \n",
    "import pandas as pd \n",
=======
   "execution_count": 1,
   "metadata": {},
   "outputs": [],
   "source": [
    "import pandas as pd \n",
    "import numpy as np \n",
>>>>>>> ecaeafb16cd0d3802f171eeeae77203f4d62422d
    "import matplotlib.pyplot as plt"
   ]
  },
  {
<<<<<<< HEAD
   "attachments": {},
   "cell_type": "markdown",
   "id": "bbe8abd9",
   "metadata": {},
   "source": [
    "## One-way tables\n",
    "\n",
    "Individuals and variables\n",
    "\n",
    "The simplest kind of information we’ll work with in this course is a set of individuals with one or more properties, called variables. The individuals are the items in the data set and can be cases, things, people, etc.\n",
    "\n",
    "In this table for “heights of people in the car,” the individuals are the people, and their heights are a variable because height is a property of each individual."
   ]
  },
  {
   "cell_type": "code",
   "execution_count": 70,
   "id": "6d427f70",
   "metadata": {},
   "outputs": [],
   "source": [
    "df_heights = pd.read_csv('person_height.csv')\n"
=======
   "cell_type": "code",
   "execution_count": 2,
   "id": "320b7b00",
   "metadata": {},
   "outputs": [],
   "source": [
    "df = pd.read_csv('icecream.csv')"
>>>>>>> ecaeafb16cd0d3802f171eeeae77203f4d62422d
   ]
  },
  {
   "cell_type": "code",
<<<<<<< HEAD
   "execution_count": 71,
   "id": "f5e981dc",
   "metadata": {},
   "outputs": [
    {
     "data": {
      "text/html": [
       "<div>\n",
       "<style scoped>\n",
       "    .dataframe tbody tr th:only-of-type {\n",
       "        vertical-align: middle;\n",
       "    }\n",
       "\n",
       "    .dataframe tbody tr th {\n",
       "        vertical-align: top;\n",
       "    }\n",
       "\n",
       "    .dataframe thead th {\n",
       "        text-align: right;\n",
       "    }\n",
       "</style>\n",
       "<table border=\"1\" class=\"dataframe\">\n",
       "  <thead>\n",
       "    <tr style=\"text-align: right;\">\n",
       "      <th></th>\n",
       "      <th>Person</th>\n",
       "      <th>Height</th>\n",
       "    </tr>\n",
       "  </thead>\n",
       "  <tbody>\n",
       "    <tr>\n",
       "      <th>0</th>\n",
       "      <td>Wendy</td>\n",
       "      <td>5’6’’</td>\n",
       "    </tr>\n",
       "    <tr>\n",
       "      <th>1</th>\n",
       "      <td>Michael</td>\n",
       "      <td>5’9’’</td>\n",
       "    </tr>\n",
       "    <tr>\n",
       "      <th>2</th>\n",
       "      <td>Rachael</td>\n",
       "      <td>5’3’’</td>\n",
       "    </tr>\n",
       "    <tr>\n",
       "      <th>3</th>\n",
       "      <td>Allen</td>\n",
       "      <td>5’11’’</td>\n",
       "    </tr>\n",
       "  </tbody>\n",
       "</table>\n",
       "</div>"
      ],
      "text/plain": [
       "    Person  Height\n",
       "0    Wendy   5’6’’\n",
       "1  Michael   5’9’’\n",
       "2  Rachael   5’3’’\n",
       "3    Allen  5’11’’"
      ]
     },
     "execution_count": 71,
     "metadata": {},
     "output_type": "execute_result"
    }
   ],
   "source": [
    "df_heights"
   ]
  },
  {
   "cell_type": "code",
   "execution_count": 72,
   "id": "168d5d41",
=======
   "execution_count": 3,
   "id": "7a5b6aec",
>>>>>>> ecaeafb16cd0d3802f171eeeae77203f4d62422d
   "metadata": {},
   "outputs": [
    {
     "data": {
      "text/html": [
       "<div>\n",
       "<style scoped>\n",
       "    .dataframe tbody tr th:only-of-type {\n",
       "        vertical-align: middle;\n",
       "    }\n",
       "\n",
       "    .dataframe tbody tr th {\n",
       "        vertical-align: top;\n",
       "    }\n",
       "\n",
       "    .dataframe thead th {\n",
       "        text-align: right;\n",
       "    }\n",
       "</style>\n",
       "<table border=\"1\" class=\"dataframe\">\n",
       "  <thead>\n",
       "    <tr style=\"text-align: right;\">\n",
       "      <th></th>\n",
       "      <th>Flavor</th>\n",
       "      <th>Scoops sold</th>\n",
       "      <th>Contains chocolate?</th>\n",
       "      <th>Smooth or chunky?</th>\n",
       "    </tr>\n",
       "  </thead>\n",
       "  <tbody>\n",
       "    <tr>\n",
       "      <th>0</th>\n",
       "      <td>Vanilla</td>\n",
       "      <td>300</td>\n",
       "      <td>No</td>\n",
       "      <td>Smooth</td>\n",
       "    </tr>\n",
       "    <tr>\n",
       "      <th>1</th>\n",
       "      <td>Chocolate</td>\n",
       "      <td>450</td>\n",
       "      <td>Yes</td>\n",
       "      <td>Smooth</td>\n",
       "    </tr>\n",
       "    <tr>\n",
       "      <th>2</th>\n",
       "      <td>Cookies &amp; Cream</td>\n",
       "      <td>275</td>\n",
       "      <td>Yes</td>\n",
       "      <td>Chunky</td>\n",
       "    </tr>\n",
       "    <tr>\n",
       "      <th>3</th>\n",
       "      <td>Mint Chocolate Chip</td>\n",
       "      <td>315</td>\n",
       "      <td>Yes</td>\n",
       "      <td>Chunky</td>\n",
       "    </tr>\n",
       "    <tr>\n",
       "      <th>4</th>\n",
       "      <td>Fudge Brownie</td>\n",
       "      <td>375</td>\n",
       "      <td>Yes</td>\n",
       "      <td>Chunky</td>\n",
       "    </tr>\n",
       "    <tr>\n",
       "      <th>5</th>\n",
       "      <td>Rocky Road</td>\n",
       "      <td>250</td>\n",
       "      <td>Yes</td>\n",
       "      <td>Chunky</td>\n",
       "    </tr>\n",
       "  </tbody>\n",
       "</table>\n",
       "</div>"
      ],
      "text/plain": [
       "                Flavor  Scoops sold Contains chocolate? Smooth or chunky?\n",
       "0              Vanilla          300                  No            Smooth\n",
       "1            Chocolate          450                 Yes            Smooth\n",
       "2      Cookies & Cream          275                 Yes            Chunky\n",
       "3  Mint Chocolate Chip          315                 Yes            Chunky\n",
       "4        Fudge Brownie          375                 Yes            Chunky\n",
       "5           Rocky Road          250                 Yes            Chunky"
      ]
     },
<<<<<<< HEAD
     "execution_count": 72,
=======
     "execution_count": 3,
>>>>>>> ecaeafb16cd0d3802f171eeeae77203f4d62422d
     "metadata": {},
     "output_type": "execute_result"
    }
   ],
   "source": [
<<<<<<< HEAD
    "df_ice_cream = pd.read_csv('icecream.csv')\n",
    "df_ice_cream"
   ]
  },
  {
   "attachments": {},
   "cell_type": "markdown",
   "id": "a4623576",
   "metadata": {},
   "source": [
    "## Constructing One-Way Tables"
   ]
  },
  {
   "cell_type": "code",
   "execution_count": 73,
   "id": "a9fbd527",
   "metadata": {},
   "outputs": [],
   "source": [
    "df_houses = pd.read_csv('two-houses.csv')"
   ]
  },
  {
   "cell_type": "code",
   "execution_count": 74,
   "id": "507a0697",
   "metadata": {},
   "outputs": [
    {
     "data": {
      "text/html": [
       "<div>\n",
       "<style scoped>\n",
       "    .dataframe tbody tr th:only-of-type {\n",
       "        vertical-align: middle;\n",
       "    }\n",
       "\n",
       "    .dataframe tbody tr th {\n",
       "        vertical-align: top;\n",
       "    }\n",
       "\n",
       "    .dataframe thead th {\n",
       "        text-align: right;\n",
       "    }\n",
       "</style>\n",
       "<table border=\"1\" class=\"dataframe\">\n",
       "  <thead>\n",
       "    <tr style=\"text-align: right;\">\n",
       "      <th></th>\n",
       "      <th>Features</th>\n",
       "      <th>317 Spruce Rd</th>\n",
       "      <th>819 Lilac St</th>\n",
       "    </tr>\n",
       "  </thead>\n",
       "  <tbody>\n",
       "    <tr>\n",
       "      <th>0</th>\n",
       "      <td>Price</td>\n",
       "      <td>$299000</td>\n",
       "      <td>$349000</td>\n",
       "    </tr>\n",
       "    <tr>\n",
       "      <th>1</th>\n",
       "      <td>Square footage</td>\n",
       "      <td>3652</td>\n",
       "      <td>3812</td>\n",
       "    </tr>\n",
       "    <tr>\n",
       "      <th>2</th>\n",
       "      <td>Price per square foot</td>\n",
       "      <td>$82</td>\n",
       "      <td>$92</td>\n",
       "    </tr>\n",
       "    <tr>\n",
       "      <th>3</th>\n",
       "      <td>Bedrooms</td>\n",
       "      <td>4</td>\n",
       "      <td>5</td>\n",
       "    </tr>\n",
       "    <tr>\n",
       "      <th>4</th>\n",
       "      <td>Bathrooms</td>\n",
       "      <td>2.5</td>\n",
       "      <td>3</td>\n",
       "    </tr>\n",
       "    <tr>\n",
       "      <th>5</th>\n",
       "      <td>Stories</td>\n",
       "      <td>3</td>\n",
       "      <td>2</td>\n",
       "    </tr>\n",
       "    <tr>\n",
       "      <th>6</th>\n",
       "      <td>Basement</td>\n",
       "      <td>Finished</td>\n",
       "      <td>Unfinished</td>\n",
       "    </tr>\n",
       "    <tr>\n",
       "      <th>7</th>\n",
       "      <td>Garage spaces</td>\n",
       "      <td>3</td>\n",
       "      <td>2</td>\n",
       "    </tr>\n",
       "    <tr>\n",
       "      <th>8</th>\n",
       "      <td>Lot acres</td>\n",
       "      <td>0.36</td>\n",
       "      <td>0.31</td>\n",
       "    </tr>\n",
       "    <tr>\n",
       "      <th>9</th>\n",
       "      <td>Grass backyard</td>\n",
       "      <td>Yes</td>\n",
       "      <td>Yes</td>\n",
       "    </tr>\n",
       "    <tr>\n",
       "      <th>10</th>\n",
       "      <td>Year built</td>\n",
       "      <td>1974</td>\n",
       "      <td>2001</td>\n",
       "    </tr>\n",
       "    <tr>\n",
       "      <th>11</th>\n",
       "      <td>Property tax</td>\n",
       "      <td>$2356</td>\n",
       "      <td>$2595</td>\n",
       "    </tr>\n",
       "    <tr>\n",
       "      <th>12</th>\n",
       "      <td>Payment</td>\n",
       "      <td>$1120</td>\n",
       "      <td>$1045</td>\n",
       "    </tr>\n",
       "  </tbody>\n",
       "</table>\n",
       "</div>"
      ],
      "text/plain": [
       "                 Features 317 Spruce Rd 819 Lilac St\n",
       "0                   Price       $299000      $349000\n",
       "1          Square footage          3652         3812\n",
       "2   Price per square foot           $82          $92\n",
       "3                Bedrooms             4            5\n",
       "4               Bathrooms           2.5            3\n",
       "5                 Stories             3            2\n",
       "6                Basement      Finished   Unfinished\n",
       "7           Garage spaces             3            2\n",
       "8               Lot acres          0.36         0.31\n",
       "9          Grass backyard           Yes          Yes\n",
       "10             Year built          1974         2001\n",
       "11           Property tax         $2356        $2595\n",
       "12                Payment         $1120        $1045"
      ]
     },
     "execution_count": 74,
     "metadata": {},
     "output_type": "execute_result"
    }
   ],
   "source": [
    "df_houses"
   ]
  },
  {
   "attachments": {},
   "cell_type": "markdown",
   "id": "504350fc",
   "metadata": {},
   "source": [
    "### Bar graphs and pie charts"
   ]
  },
  {
   "cell_type": "code",
   "execution_count": 75,
   "id": "db4ca8db",
   "metadata": {},
   "outputs": [],
   "source": [
    "graph_data = {\n",
    "    \"Europe\": 16,\n",
    "    \"North America\": 6,\n",
    "    \"Asia\": 3.5,\n",
    "    \"Australia\": 3,\n",
    "    \"South America\": 2,\n",
    "}"
   ]
  },
  {
   "cell_type": "code",
   "execution_count": 80,
   "id": "17a1c2b8",
   "metadata": {},
   "outputs": [
    {
     "data": {
      "text/html": [
       "<div>\n",
       "<style scoped>\n",
       "    .dataframe tbody tr th:only-of-type {\n",
       "        vertical-align: middle;\n",
       "    }\n",
       "\n",
       "    .dataframe tbody tr th {\n",
       "        vertical-align: top;\n",
       "    }\n",
       "\n",
       "    .dataframe thead th {\n",
       "        text-align: right;\n",
       "    }\n",
       "</style>\n",
       "<table border=\"1\" class=\"dataframe\">\n",
       "  <thead>\n",
       "    <tr style=\"text-align: right;\">\n",
       "      <th></th>\n",
       "      <th>continent</th>\n",
       "      <th>events</th>\n",
       "    </tr>\n",
       "  </thead>\n",
       "  <tbody>\n",
       "    <tr>\n",
       "      <th>0</th>\n",
       "      <td>Europe</td>\n",
       "      <td>16.0</td>\n",
       "    </tr>\n",
       "    <tr>\n",
       "      <th>1</th>\n",
       "      <td>North America</td>\n",
       "      <td>6.0</td>\n",
       "    </tr>\n",
       "    <tr>\n",
       "      <th>2</th>\n",
       "      <td>Asia</td>\n",
       "      <td>3.5</td>\n",
       "    </tr>\n",
       "    <tr>\n",
       "      <th>3</th>\n",
       "      <td>Australia</td>\n",
       "      <td>3.0</td>\n",
       "    </tr>\n",
       "    <tr>\n",
       "      <th>4</th>\n",
       "      <td>South America</td>\n",
       "      <td>2.0</td>\n",
       "    </tr>\n",
       "  </tbody>\n",
       "</table>\n",
       "</div>"
      ],
      "text/plain": [
       "       continent  events\n",
       "0         Europe    16.0\n",
       "1  North America     6.0\n",
       "2           Asia     3.5\n",
       "3      Australia     3.0\n",
       "4  South America     2.0"
      ]
     },
     "execution_count": 80,
     "metadata": {},
     "output_type": "execute_result"
    }
   ],
   "source": [
    "continents = list(graph_data.keys())\n",
    "numbers = list(graph_data.values())\n",
    "data = {'continent': continents, 'events': numbers}\n",
    "df = pd.DataFrame(data)\n",
=======
>>>>>>> ecaeafb16cd0d3802f171eeeae77203f4d62422d
    "df"
   ]
  },
  {
   "cell_type": "code",
<<<<<<< HEAD
   "execution_count": 101,
   "id": "b785a0fd",
=======
   "execution_count": 7,
   "id": "2cc94259",
   "metadata": {},
   "outputs": [],
   "source": [
    "df = df.set_index('Flavor')"
   ]
  },
  {
   "cell_type": "code",
   "execution_count": 8,
   "id": "c553b08f",
   "metadata": {},
   "outputs": [
    {
     "data": {
      "text/html": [
       "<div>\n",
       "<style scoped>\n",
       "    .dataframe tbody tr th:only-of-type {\n",
       "        vertical-align: middle;\n",
       "    }\n",
       "\n",
       "    .dataframe tbody tr th {\n",
       "        vertical-align: top;\n",
       "    }\n",
       "\n",
       "    .dataframe thead th {\n",
       "        text-align: right;\n",
       "    }\n",
       "</style>\n",
       "<table border=\"1\" class=\"dataframe\">\n",
       "  <thead>\n",
       "    <tr style=\"text-align: right;\">\n",
       "      <th></th>\n",
       "      <th>Scoops sold</th>\n",
       "      <th>Contains chocolate?</th>\n",
       "      <th>Smooth or chunky?</th>\n",
       "    </tr>\n",
       "    <tr>\n",
       "      <th>Flavor</th>\n",
       "      <th></th>\n",
       "      <th></th>\n",
       "      <th></th>\n",
       "    </tr>\n",
       "  </thead>\n",
       "  <tbody>\n",
       "    <tr>\n",
       "      <th>Vanilla</th>\n",
       "      <td>300</td>\n",
       "      <td>No</td>\n",
       "      <td>Smooth</td>\n",
       "    </tr>\n",
       "    <tr>\n",
       "      <th>Chocolate</th>\n",
       "      <td>450</td>\n",
       "      <td>Yes</td>\n",
       "      <td>Smooth</td>\n",
       "    </tr>\n",
       "    <tr>\n",
       "      <th>Cookies &amp; Cream</th>\n",
       "      <td>275</td>\n",
       "      <td>Yes</td>\n",
       "      <td>Chunky</td>\n",
       "    </tr>\n",
       "    <tr>\n",
       "      <th>Mint Chocolate Chip</th>\n",
       "      <td>315</td>\n",
       "      <td>Yes</td>\n",
       "      <td>Chunky</td>\n",
       "    </tr>\n",
       "    <tr>\n",
       "      <th>Fudge Brownie</th>\n",
       "      <td>375</td>\n",
       "      <td>Yes</td>\n",
       "      <td>Chunky</td>\n",
       "    </tr>\n",
       "    <tr>\n",
       "      <th>Rocky Road</th>\n",
       "      <td>250</td>\n",
       "      <td>Yes</td>\n",
       "      <td>Chunky</td>\n",
       "    </tr>\n",
       "  </tbody>\n",
       "</table>\n",
       "</div>"
      ],
      "text/plain": [
       "                     Scoops sold Contains chocolate? Smooth or chunky?\n",
       "Flavor                                                                \n",
       "Vanilla                      300                  No            Smooth\n",
       "Chocolate                    450                 Yes            Smooth\n",
       "Cookies & Cream              275                 Yes            Chunky\n",
       "Mint Chocolate Chip          315                 Yes            Chunky\n",
       "Fudge Brownie                375                 Yes            Chunky\n",
       "Rocky Road                   250                 Yes            Chunky"
      ]
     },
     "execution_count": 8,
     "metadata": {},
     "output_type": "execute_result"
    }
   ],
   "source": [
    "df"
   ]
  },
  {
   "cell_type": "code",
   "execution_count": 10,
   "id": "52520f9a",
>>>>>>> ecaeafb16cd0d3802f171eeeae77203f4d62422d
   "metadata": {},
   "outputs": [
    {
     "data": {
      "text/plain": [
<<<<<<< HEAD
       "<AxesSubplot:xlabel='continent'>"
      ]
     },
     "execution_count": 101,
     "metadata": {},
     "output_type": "execute_result"
    },
    {
     "data": {
      "image/png": "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",
      "text/plain": [
       "<Figure size 640x480 with 1 Axes>"
      ]
     },
     "metadata": {},
     "output_type": "display_data"
    }
   ],
   "source": [
    "from matplotlib import cm\n",
    "from matplotlib.colors import ListedColormap, LinearSegmentedColormap\n",
    "jet = cm.get_cmap('jet', 5)\n",
    "df.plot(kind='bar', x='continent', y='events', colormap=jet)"
=======
       "Flavor\n",
       "Vanilla                300\n",
       "Chocolate              450\n",
       "Cookies & Cream        275\n",
       "Mint Chocolate Chip    315\n",
       "Fudge Brownie          375\n",
       "Rocky Road             250\n",
       "Name: Scoops sold, dtype: int64"
      ]
     },
     "execution_count": 10,
     "metadata": {},
     "output_type": "execute_result"
    }
   ],
   "source": [
    "df.loc[:,'Scoops sold']"
   ]
  },
  {
   "cell_type": "code",
   "execution_count": 11,
   "id": "012b5d74",
   "metadata": {},
   "outputs": [
    {
     "data": {
      "text/html": [
       "<div>\n",
       "<style scoped>\n",
       "    .dataframe tbody tr th:only-of-type {\n",
       "        vertical-align: middle;\n",
       "    }\n",
       "\n",
       "    .dataframe tbody tr th {\n",
       "        vertical-align: top;\n",
       "    }\n",
       "\n",
       "    .dataframe thead th {\n",
       "        text-align: right;\n",
       "    }\n",
       "</style>\n",
       "<table border=\"1\" class=\"dataframe\">\n",
       "  <thead>\n",
       "    <tr style=\"text-align: right;\">\n",
       "      <th></th>\n",
       "      <th>Scoops sold</th>\n",
       "      <th>Contains chocolate?</th>\n",
       "      <th>Smooth or chunky?</th>\n",
       "    </tr>\n",
       "    <tr>\n",
       "      <th>Flavor</th>\n",
       "      <th></th>\n",
       "      <th></th>\n",
       "      <th></th>\n",
       "    </tr>\n",
       "  </thead>\n",
       "  <tbody>\n",
       "    <tr>\n",
       "      <th>Vanilla</th>\n",
       "      <td>300</td>\n",
       "      <td>No</td>\n",
       "      <td>Smooth</td>\n",
       "    </tr>\n",
       "  </tbody>\n",
       "</table>\n",
       "</div>"
      ],
      "text/plain": [
       "         Scoops sold Contains chocolate? Smooth or chunky?\n",
       "Flavor                                                    \n",
       "Vanilla          300                  No            Smooth"
      ]
     },
     "execution_count": 11,
     "metadata": {},
     "output_type": "execute_result"
    }
   ],
   "source": [
    "df.sample()"
   ]
  },
  {
   "cell_type": "code",
   "execution_count": 21,
   "id": "1debeacf",
   "metadata": {},
   "outputs": [
    {
     "data": {
      "text/plain": [
       "0"
      ]
     },
     "execution_count": 21,
     "metadata": {},
     "output_type": "execute_result"
    }
   ],
   "source": [
    "df.columns.get_loc('Scoops sold')\n"
   ]
  },
  {
   "cell_type": "code",
   "execution_count": 22,
   "id": "3fdcd92d",
   "metadata": {},
   "outputs": [
    {
     "data": {
      "text/html": [
       "<div>\n",
       "<style scoped>\n",
       "    .dataframe tbody tr th:only-of-type {\n",
       "        vertical-align: middle;\n",
       "    }\n",
       "\n",
       "    .dataframe tbody tr th {\n",
       "        vertical-align: top;\n",
       "    }\n",
       "\n",
       "    .dataframe thead th {\n",
       "        text-align: right;\n",
       "    }\n",
       "</style>\n",
       "<table border=\"1\" class=\"dataframe\">\n",
       "  <thead>\n",
       "    <tr style=\"text-align: right;\">\n",
       "      <th></th>\n",
       "      <th>Scoops sold</th>\n",
       "      <th>Contains chocolate?</th>\n",
       "      <th>Smooth or chunky?</th>\n",
       "    </tr>\n",
       "    <tr>\n",
       "      <th>Flavor</th>\n",
       "      <th></th>\n",
       "      <th></th>\n",
       "      <th></th>\n",
       "    </tr>\n",
       "  </thead>\n",
       "  <tbody>\n",
       "    <tr>\n",
       "      <th>Vanilla</th>\n",
       "      <td>300</td>\n",
       "      <td>No</td>\n",
       "      <td>Smooth</td>\n",
       "    </tr>\n",
       "    <tr>\n",
       "      <th>Chocolate</th>\n",
       "      <td>450</td>\n",
       "      <td>Yes</td>\n",
       "      <td>Smooth</td>\n",
       "    </tr>\n",
       "    <tr>\n",
       "      <th>Cookies &amp; Cream</th>\n",
       "      <td>275</td>\n",
       "      <td>Yes</td>\n",
       "      <td>Chunky</td>\n",
       "    </tr>\n",
       "    <tr>\n",
       "      <th>Mint Chocolate Chip</th>\n",
       "      <td>315</td>\n",
       "      <td>Yes</td>\n",
       "      <td>Chunky</td>\n",
       "    </tr>\n",
       "    <tr>\n",
       "      <th>Fudge Brownie</th>\n",
       "      <td>375</td>\n",
       "      <td>Yes</td>\n",
       "      <td>Chunky</td>\n",
       "    </tr>\n",
       "    <tr>\n",
       "      <th>Rocky Road</th>\n",
       "      <td>250</td>\n",
       "      <td>Yes</td>\n",
       "      <td>Chunky</td>\n",
       "    </tr>\n",
       "  </tbody>\n",
       "</table>\n",
       "</div>"
      ],
      "text/plain": [
       "                     Scoops sold Contains chocolate? Smooth or chunky?\n",
       "Flavor                                                                \n",
       "Vanilla                      300                  No            Smooth\n",
       "Chocolate                    450                 Yes            Smooth\n",
       "Cookies & Cream              275                 Yes            Chunky\n",
       "Mint Chocolate Chip          315                 Yes            Chunky\n",
       "Fudge Brownie                375                 Yes            Chunky\n",
       "Rocky Road                   250                 Yes            Chunky"
      ]
     },
     "execution_count": 22,
     "metadata": {},
     "output_type": "execute_result"
    }
   ],
   "source": [
    "df"
   ]
  },
  {
   "cell_type": "code",
   "execution_count": 26,
   "id": "c4d79cc5",
   "metadata": {},
   "outputs": [
    {
     "data": {
      "text/html": [
       "<div>\n",
       "<style scoped>\n",
       "    .dataframe tbody tr th:only-of-type {\n",
       "        vertical-align: middle;\n",
       "    }\n",
       "\n",
       "    .dataframe tbody tr th {\n",
       "        vertical-align: top;\n",
       "    }\n",
       "\n",
       "    .dataframe thead th {\n",
       "        text-align: right;\n",
       "    }\n",
       "</style>\n",
       "<table border=\"1\" class=\"dataframe\">\n",
       "  <thead>\n",
       "    <tr style=\"text-align: right;\">\n",
       "      <th></th>\n",
       "      <th>Scoops sold</th>\n",
       "      <th>Contains chocolate?</th>\n",
       "      <th>Smooth or chunky?</th>\n",
       "    </tr>\n",
       "    <tr>\n",
       "      <th>Flavor</th>\n",
       "      <th></th>\n",
       "      <th></th>\n",
       "      <th></th>\n",
       "    </tr>\n",
       "  </thead>\n",
       "  <tbody>\n",
       "    <tr>\n",
       "      <th>Vanilla</th>\n",
       "      <td>300</td>\n",
       "      <td>No</td>\n",
       "      <td>Smooth</td>\n",
       "    </tr>\n",
       "  </tbody>\n",
       "</table>\n",
       "</div>"
      ],
      "text/plain": [
       "         Scoops sold Contains chocolate? Smooth or chunky?\n",
       "Flavor                                                    \n",
       "Vanilla          300                  No            Smooth"
      ]
     },
     "execution_count": 26,
     "metadata": {},
     "output_type": "execute_result"
    }
   ],
   "source": [
    "df[(df.loc[:,'Smooth or chunky?'] == \"Smooth\") & (df.loc[:,'Contains chocolate?'] == \"No\")]"
   ]
  },
  {
   "cell_type": "code",
   "execution_count": 27,
   "id": "c5455a76",
   "metadata": {},
   "outputs": [
    {
     "data": {
      "text/plain": [
       "count      6.000000\n",
       "mean     327.500000\n",
       "std       73.399591\n",
       "min      250.000000\n",
       "25%      281.250000\n",
       "50%      307.500000\n",
       "75%      360.000000\n",
       "max      450.000000\n",
       "Name: Scoops sold, dtype: float64"
      ]
     },
     "execution_count": 27,
     "metadata": {},
     "output_type": "execute_result"
    }
   ],
   "source": [
    "df['Scoops sold'].describe()"
   ]
  },
  {
   "cell_type": "code",
   "execution_count": 32,
   "id": "9b4f5299",
   "metadata": {},
   "outputs": [
    {
     "data": {
      "text/plain": [
       "6"
      ]
     },
     "execution_count": 32,
     "metadata": {},
     "output_type": "execute_result"
    }
   ],
   "source": [
    "df['Smooth or chunky?'].count()"
   ]
  },
  {
   "cell_type": "code",
   "execution_count": 36,
   "id": "617c345b",
   "metadata": {},
   "outputs": [
    {
     "data": {
      "text/plain": [
       "array(['Smooth', 'Smooth', 'Chunky', 'Chunky', 'Chunky', 'Chunky'],\n",
       "      dtype=object)"
      ]
     },
     "execution_count": 36,
     "metadata": {},
     "output_type": "execute_result"
    }
   ],
   "source": [
    "df['Smooth or chunky?'].values\n"
   ]
  },
  {
   "cell_type": "code",
   "execution_count": 37,
   "id": "999b5cc2",
   "metadata": {},
   "outputs": [
    {
     "data": {
      "text/plain": [
       "Chunky    4\n",
       "Smooth    2\n",
       "Name: Smooth or chunky?, dtype: int64"
      ]
     },
     "execution_count": 37,
     "metadata": {},
     "output_type": "execute_result"
    }
   ],
   "source": [
    "df['Smooth or chunky?'].value_counts()"
>>>>>>> ecaeafb16cd0d3802f171eeeae77203f4d62422d
   ]
  },
  {
   "cell_type": "code",
   "execution_count": null,
<<<<<<< HEAD
   "id": "b715f895",
   "metadata": {},
   "outputs": [],
   "source": []
=======
   "id": "ebd8fc66",
   "metadata": {},
   "outputs": [],
   "source": [
    "df['Smooth or chunky?'].unique()"
   ]
>>>>>>> ecaeafb16cd0d3802f171eeeae77203f4d62422d
  }
 ],
 "metadata": {
  "kernelspec": {
<<<<<<< HEAD
   "display_name": "base",
   "language": "python",
   "name": "python3"
=======
   "display_name": "Python (machinelearning)",
   "language": "python",
   "name": "machinelearning"
>>>>>>> ecaeafb16cd0d3802f171eeeae77203f4d62422d
  },
  "language_info": {
   "codemirror_mode": {
    "name": "ipython",
    "version": 3
   },
   "file_extension": ".py",
   "mimetype": "text/x-python",
   "name": "python",
   "nbconvert_exporter": "python",
   "pygments_lexer": "ipython3",
   "version": "3.10.6"
  }
 },
 "nbformat": 4,
 "nbformat_minor": 5
}
