{
 "cells": [
  {
   "cell_type": "code",
   "execution_count": 1,
   "metadata": {},
   "outputs": [],
   "source": [
    "import pandas as pd \n",
    "import numpy as np \n",
    "import matplotlib.pyplot as plt"
   ]
  },
  {
   "cell_type": "code",
   "execution_count": 2,
   "id": "320b7b00",
   "metadata": {},
   "outputs": [],
   "source": [
    "df = pd.read_csv('icecream.csv')"
   ]
  },
  {
   "cell_type": "code",
   "execution_count": 3,
   "id": "7a5b6aec",
   "metadata": {},
   "outputs": [
    {
     "data": {
      "text/html": [
       "<div>\n",
       "<style scoped>\n",
       "    .dataframe tbody tr th:only-of-type {\n",
       "        vertical-align: middle;\n",
       "    }\n",
       "\n",
       "    .dataframe tbody tr th {\n",
       "        vertical-align: top;\n",
       "    }\n",
       "\n",
       "    .dataframe thead th {\n",
       "        text-align: right;\n",
       "    }\n",
       "</style>\n",
       "<table border=\"1\" class=\"dataframe\">\n",
       "  <thead>\n",
       "    <tr style=\"text-align: right;\">\n",
       "      <th></th>\n",
       "      <th>Flavor</th>\n",
       "      <th>Scoops sold</th>\n",
       "      <th>Contains chocolate?</th>\n",
       "      <th>Smooth or chunky?</th>\n",
       "    </tr>\n",
       "  </thead>\n",
       "  <tbody>\n",
       "    <tr>\n",
       "      <th>0</th>\n",
       "      <td>Vanilla</td>\n",
       "      <td>300</td>\n",
       "      <td>No</td>\n",
       "      <td>Smooth</td>\n",
       "    </tr>\n",
       "    <tr>\n",
       "      <th>1</th>\n",
       "      <td>Chocolate</td>\n",
       "      <td>450</td>\n",
       "      <td>Yes</td>\n",
       "      <td>Smooth</td>\n",
       "    </tr>\n",
       "    <tr>\n",
       "      <th>2</th>\n",
       "      <td>Cookies &amp; Cream</td>\n",
       "      <td>275</td>\n",
       "      <td>Yes</td>\n",
       "      <td>Chunky</td>\n",
       "    </tr>\n",
       "    <tr>\n",
       "      <th>3</th>\n",
       "      <td>Mint Chocolate Chip</td>\n",
       "      <td>315</td>\n",
       "      <td>Yes</td>\n",
       "      <td>Chunky</td>\n",
       "    </tr>\n",
       "    <tr>\n",
       "      <th>4</th>\n",
       "      <td>Fudge Brownie</td>\n",
       "      <td>375</td>\n",
       "      <td>Yes</td>\n",
       "      <td>Chunky</td>\n",
       "    </tr>\n",
       "    <tr>\n",
       "      <th>5</th>\n",
       "      <td>Rocky Road</td>\n",
       "      <td>250</td>\n",
       "      <td>Yes</td>\n",
       "      <td>Chunky</td>\n",
       "    </tr>\n",
       "  </tbody>\n",
       "</table>\n",
       "</div>"
      ],
      "text/plain": [
       "                Flavor  Scoops sold Contains chocolate? Smooth or chunky?\n",
       "0              Vanilla          300                  No            Smooth\n",
       "1            Chocolate          450                 Yes            Smooth\n",
       "2      Cookies & Cream          275                 Yes            Chunky\n",
       "3  Mint Chocolate Chip          315                 Yes            Chunky\n",
       "4        Fudge Brownie          375                 Yes            Chunky\n",
       "5           Rocky Road          250                 Yes            Chunky"
      ]
     },
     "execution_count": 3,
     "metadata": {},
     "output_type": "execute_result"
    }
   ],
   "source": [
    "df"
   ]
  },
  {
   "cell_type": "code",
   "execution_count": 7,
   "id": "2cc94259",
   "metadata": {},
   "outputs": [],
   "source": [
    "df = df.set_index('Flavor')"
   ]
  },
  {
   "cell_type": "code",
   "execution_count": 8,
   "id": "c553b08f",
   "metadata": {},
   "outputs": [
    {
     "data": {
      "text/html": [
       "<div>\n",
       "<style scoped>\n",
       "    .dataframe tbody tr th:only-of-type {\n",
       "        vertical-align: middle;\n",
       "    }\n",
       "\n",
       "    .dataframe tbody tr th {\n",
       "        vertical-align: top;\n",
       "    }\n",
       "\n",
       "    .dataframe thead th {\n",
       "        text-align: right;\n",
       "    }\n",
       "</style>\n",
       "<table border=\"1\" class=\"dataframe\">\n",
       "  <thead>\n",
       "    <tr style=\"text-align: right;\">\n",
       "      <th></th>\n",
       "      <th>Scoops sold</th>\n",
       "      <th>Contains chocolate?</th>\n",
       "      <th>Smooth or chunky?</th>\n",
       "    </tr>\n",
       "    <tr>\n",
       "      <th>Flavor</th>\n",
       "      <th></th>\n",
       "      <th></th>\n",
       "      <th></th>\n",
       "    </tr>\n",
       "  </thead>\n",
       "  <tbody>\n",
       "    <tr>\n",
       "      <th>Vanilla</th>\n",
       "      <td>300</td>\n",
       "      <td>No</td>\n",
       "      <td>Smooth</td>\n",
       "    </tr>\n",
       "    <tr>\n",
       "      <th>Chocolate</th>\n",
       "      <td>450</td>\n",
       "      <td>Yes</td>\n",
       "      <td>Smooth</td>\n",
       "    </tr>\n",
       "    <tr>\n",
       "      <th>Cookies &amp; Cream</th>\n",
       "      <td>275</td>\n",
       "      <td>Yes</td>\n",
       "      <td>Chunky</td>\n",
       "    </tr>\n",
       "    <tr>\n",
       "      <th>Mint Chocolate Chip</th>\n",
       "      <td>315</td>\n",
       "      <td>Yes</td>\n",
       "      <td>Chunky</td>\n",
       "    </tr>\n",
       "    <tr>\n",
       "      <th>Fudge Brownie</th>\n",
       "      <td>375</td>\n",
       "      <td>Yes</td>\n",
       "      <td>Chunky</td>\n",
       "    </tr>\n",
       "    <tr>\n",
       "      <th>Rocky Road</th>\n",
       "      <td>250</td>\n",
       "      <td>Yes</td>\n",
       "      <td>Chunky</td>\n",
       "    </tr>\n",
       "  </tbody>\n",
       "</table>\n",
       "</div>"
      ],
      "text/plain": [
       "                     Scoops sold Contains chocolate? Smooth or chunky?\n",
       "Flavor                                                                \n",
       "Vanilla                      300                  No            Smooth\n",
       "Chocolate                    450                 Yes            Smooth\n",
       "Cookies & Cream              275                 Yes            Chunky\n",
       "Mint Chocolate Chip          315                 Yes            Chunky\n",
       "Fudge Brownie                375                 Yes            Chunky\n",
       "Rocky Road                   250                 Yes            Chunky"
      ]
     },
     "execution_count": 8,
     "metadata": {},
     "output_type": "execute_result"
    }
   ],
   "source": [
    "df"
   ]
  },
  {
   "cell_type": "code",
   "execution_count": 10,
   "id": "52520f9a",
   "metadata": {},
   "outputs": [
    {
     "data": {
      "text/plain": [
       "Flavor\n",
       "Vanilla                300\n",
       "Chocolate              450\n",
       "Cookies & Cream        275\n",
       "Mint Chocolate Chip    315\n",
       "Fudge Brownie          375\n",
       "Rocky Road             250\n",
       "Name: Scoops sold, dtype: int64"
      ]
     },
     "execution_count": 10,
     "metadata": {},
     "output_type": "execute_result"
    }
   ],
   "source": [
    "df.loc[:,'Scoops sold']"
   ]
  },
  {
   "cell_type": "code",
   "execution_count": 11,
   "id": "012b5d74",
   "metadata": {},
   "outputs": [
    {
     "data": {
      "text/html": [
       "<div>\n",
       "<style scoped>\n",
       "    .dataframe tbody tr th:only-of-type {\n",
       "        vertical-align: middle;\n",
       "    }\n",
       "\n",
       "    .dataframe tbody tr th {\n",
       "        vertical-align: top;\n",
       "    }\n",
       "\n",
       "    .dataframe thead th {\n",
       "        text-align: right;\n",
       "    }\n",
       "</style>\n",
       "<table border=\"1\" class=\"dataframe\">\n",
       "  <thead>\n",
       "    <tr style=\"text-align: right;\">\n",
       "      <th></th>\n",
       "      <th>Scoops sold</th>\n",
       "      <th>Contains chocolate?</th>\n",
       "      <th>Smooth or chunky?</th>\n",
       "    </tr>\n",
       "    <tr>\n",
       "      <th>Flavor</th>\n",
       "      <th></th>\n",
       "      <th></th>\n",
       "      <th></th>\n",
       "    </tr>\n",
       "  </thead>\n",
       "  <tbody>\n",
       "    <tr>\n",
       "      <th>Vanilla</th>\n",
       "      <td>300</td>\n",
       "      <td>No</td>\n",
       "      <td>Smooth</td>\n",
       "    </tr>\n",
       "  </tbody>\n",
       "</table>\n",
       "</div>"
      ],
      "text/plain": [
       "         Scoops sold Contains chocolate? Smooth or chunky?\n",
       "Flavor                                                    \n",
       "Vanilla          300                  No            Smooth"
      ]
     },
     "execution_count": 11,
     "metadata": {},
     "output_type": "execute_result"
    }
   ],
   "source": [
    "df.sample()"
   ]
  },
  {
   "cell_type": "code",
   "execution_count": 21,
   "id": "1debeacf",
   "metadata": {},
   "outputs": [
    {
     "data": {
      "text/plain": [
       "0"
      ]
     },
     "execution_count": 21,
     "metadata": {},
     "output_type": "execute_result"
    }
   ],
   "source": [
    "df.columns.get_loc('Scoops sold')\n"
   ]
  },
  {
   "cell_type": "code",
   "execution_count": 22,
   "id": "3fdcd92d",
   "metadata": {},
   "outputs": [
    {
     "data": {
      "text/html": [
       "<div>\n",
       "<style scoped>\n",
       "    .dataframe tbody tr th:only-of-type {\n",
       "        vertical-align: middle;\n",
       "    }\n",
       "\n",
       "    .dataframe tbody tr th {\n",
       "        vertical-align: top;\n",
       "    }\n",
       "\n",
       "    .dataframe thead th {\n",
       "        text-align: right;\n",
       "    }\n",
       "</style>\n",
       "<table border=\"1\" class=\"dataframe\">\n",
       "  <thead>\n",
       "    <tr style=\"text-align: right;\">\n",
       "      <th></th>\n",
       "      <th>Scoops sold</th>\n",
       "      <th>Contains chocolate?</th>\n",
       "      <th>Smooth or chunky?</th>\n",
       "    </tr>\n",
       "    <tr>\n",
       "      <th>Flavor</th>\n",
       "      <th></th>\n",
       "      <th></th>\n",
       "      <th></th>\n",
       "    </tr>\n",
       "  </thead>\n",
       "  <tbody>\n",
       "    <tr>\n",
       "      <th>Vanilla</th>\n",
       "      <td>300</td>\n",
       "      <td>No</td>\n",
       "      <td>Smooth</td>\n",
       "    </tr>\n",
       "    <tr>\n",
       "      <th>Chocolate</th>\n",
       "      <td>450</td>\n",
       "      <td>Yes</td>\n",
       "      <td>Smooth</td>\n",
       "    </tr>\n",
       "    <tr>\n",
       "      <th>Cookies &amp; Cream</th>\n",
       "      <td>275</td>\n",
       "      <td>Yes</td>\n",
       "      <td>Chunky</td>\n",
       "    </tr>\n",
       "    <tr>\n",
       "      <th>Mint Chocolate Chip</th>\n",
       "      <td>315</td>\n",
       "      <td>Yes</td>\n",
       "      <td>Chunky</td>\n",
       "    </tr>\n",
       "    <tr>\n",
       "      <th>Fudge Brownie</th>\n",
       "      <td>375</td>\n",
       "      <td>Yes</td>\n",
       "      <td>Chunky</td>\n",
       "    </tr>\n",
       "    <tr>\n",
       "      <th>Rocky Road</th>\n",
       "      <td>250</td>\n",
       "      <td>Yes</td>\n",
       "      <td>Chunky</td>\n",
       "    </tr>\n",
       "  </tbody>\n",
       "</table>\n",
       "</div>"
      ],
      "text/plain": [
       "                     Scoops sold Contains chocolate? Smooth or chunky?\n",
       "Flavor                                                                \n",
       "Vanilla                      300                  No            Smooth\n",
       "Chocolate                    450                 Yes            Smooth\n",
       "Cookies & Cream              275                 Yes            Chunky\n",
       "Mint Chocolate Chip          315                 Yes            Chunky\n",
       "Fudge Brownie                375                 Yes            Chunky\n",
       "Rocky Road                   250                 Yes            Chunky"
      ]
     },
     "execution_count": 22,
     "metadata": {},
     "output_type": "execute_result"
    }
   ],
   "source": [
    "df"
   ]
  },
  {
   "cell_type": "code",
   "execution_count": 26,
   "id": "c4d79cc5",
   "metadata": {},
   "outputs": [
    {
     "data": {
      "text/html": [
       "<div>\n",
       "<style scoped>\n",
       "    .dataframe tbody tr th:only-of-type {\n",
       "        vertical-align: middle;\n",
       "    }\n",
       "\n",
       "    .dataframe tbody tr th {\n",
       "        vertical-align: top;\n",
       "    }\n",
       "\n",
       "    .dataframe thead th {\n",
       "        text-align: right;\n",
       "    }\n",
       "</style>\n",
       "<table border=\"1\" class=\"dataframe\">\n",
       "  <thead>\n",
       "    <tr style=\"text-align: right;\">\n",
       "      <th></th>\n",
       "      <th>Scoops sold</th>\n",
       "      <th>Contains chocolate?</th>\n",
       "      <th>Smooth or chunky?</th>\n",
       "    </tr>\n",
       "    <tr>\n",
       "      <th>Flavor</th>\n",
       "      <th></th>\n",
       "      <th></th>\n",
       "      <th></th>\n",
       "    </tr>\n",
       "  </thead>\n",
       "  <tbody>\n",
       "    <tr>\n",
       "      <th>Vanilla</th>\n",
       "      <td>300</td>\n",
       "      <td>No</td>\n",
       "      <td>Smooth</td>\n",
       "    </tr>\n",
       "  </tbody>\n",
       "</table>\n",
       "</div>"
      ],
      "text/plain": [
       "         Scoops sold Contains chocolate? Smooth or chunky?\n",
       "Flavor                                                    \n",
       "Vanilla          300                  No            Smooth"
      ]
     },
     "execution_count": 26,
     "metadata": {},
     "output_type": "execute_result"
    }
   ],
   "source": [
    "df[(df.loc[:,'Smooth or chunky?'] == \"Smooth\") & (df.loc[:,'Contains chocolate?'] == \"No\")]"
   ]
  },
  {
   "cell_type": "code",
   "execution_count": 27,
   "id": "c5455a76",
   "metadata": {},
   "outputs": [
    {
     "data": {
      "text/plain": [
       "count      6.000000\n",
       "mean     327.500000\n",
       "std       73.399591\n",
       "min      250.000000\n",
       "25%      281.250000\n",
       "50%      307.500000\n",
       "75%      360.000000\n",
       "max      450.000000\n",
       "Name: Scoops sold, dtype: float64"
      ]
     },
     "execution_count": 27,
     "metadata": {},
     "output_type": "execute_result"
    }
   ],
   "source": [
    "df['Scoops sold'].describe()"
   ]
  },
  {
   "cell_type": "code",
   "execution_count": 32,
   "id": "9b4f5299",
   "metadata": {},
   "outputs": [
    {
     "data": {
      "text/plain": [
       "6"
      ]
     },
     "execution_count": 32,
     "metadata": {},
     "output_type": "execute_result"
    }
   ],
   "source": [
    "df['Smooth or chunky?'].count()"
   ]
  },
  {
   "cell_type": "code",
   "execution_count": 36,
   "id": "617c345b",
   "metadata": {},
   "outputs": [
    {
     "data": {
      "text/plain": [
       "array(['Smooth', 'Smooth', 'Chunky', 'Chunky', 'Chunky', 'Chunky'],\n",
       "      dtype=object)"
      ]
     },
     "execution_count": 36,
     "metadata": {},
     "output_type": "execute_result"
    }
   ],
   "source": [
    "df['Smooth or chunky?'].values\n"
   ]
  },
  {
   "cell_type": "code",
   "execution_count": 37,
   "id": "999b5cc2",
   "metadata": {},
   "outputs": [
    {
     "data": {
      "text/plain": [
       "Chunky    4\n",
       "Smooth    2\n",
       "Name: Smooth or chunky?, dtype: int64"
      ]
     },
     "execution_count": 37,
     "metadata": {},
     "output_type": "execute_result"
    }
   ],
   "source": [
    "df['Smooth or chunky?'].value_counts()"
   ]
  },
  {
   "cell_type": "code",
   "execution_count": null,
   "id": "ebd8fc66",
   "metadata": {},
   "outputs": [],
   "source": [
    "df['Smooth or chunky?'].unique()"
   ]
  }
 ],
 "metadata": {
  "kernelspec": {
   "display_name": "Python (machinelearning)",
   "language": "python",
   "name": "machinelearning"
  },
  "language_info": {
   "codemirror_mode": {
    "name": "ipython",
    "version": 3
   },
   "file_extension": ".py",
   "mimetype": "text/x-python",
   "name": "python",
   "nbconvert_exporter": "python",
   "pygments_lexer": "ipython3",
   "version": "3.10.6"
  }
 },
 "nbformat": 4,
 "nbformat_minor": 5
}
